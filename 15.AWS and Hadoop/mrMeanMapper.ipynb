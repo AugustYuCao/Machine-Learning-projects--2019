{
 "cells": [
  {
   "cell_type": "code",
   "execution_count": 1,
   "metadata": {},
   "outputs": [
    {
     "name": "stdout",
     "output_type": "stream",
     "text": [
      "0\tnan\tnan\n",
      "report: still alive <ipykernel.iostream.OutStream object at 0x10d33b128>\n"
     ]
    },
    {
     "name": "stderr",
     "output_type": "stream",
     "text": [
      "/usr/local/lib/python3.7/site-packages/numpy/matrixlib/defmatrix.py:442: RuntimeWarning: Mean of empty slice.\n",
      "  return N.ndarray.mean(self, axis, dtype, out, keepdims=True)._collapse(axis)\n",
      "/usr/local/lib/python3.7/site-packages/numpy/core/_methods.py:78: RuntimeWarning: invalid value encountered in true_divide\n",
      "  ret, rcount, out=ret, casting='unsafe', subok=False)\n"
     ]
    }
   ],
   "source": [
    "import sys\n",
    "from numpy import mat, mean, power\n",
    "\n",
    "def read_input(file):\n",
    "    for line in file:\n",
    "        yield line.rstrip()\n",
    "        \n",
    "input = read_input(sys.stdin)\n",
    "input = [float(line) for line in input]\n",
    "numInputs = len(input)\n",
    "input = mat(input)\n",
    "sqInput = power(input, 2)\n",
    "print('%d\\t%f\\t%f' % (numInputs, mean(input), mean(sqInput)))\n",
    "print(\"report: still alive\", sys.stderr)"
   ]
  },
  {
   "cell_type": "code",
   "execution_count": null,
   "metadata": {},
   "outputs": [],
   "source": []
  }
 ],
 "metadata": {
  "kernelspec": {
   "display_name": "Python 3",
   "language": "python",
   "name": "python3"
  },
  "language_info": {
   "codemirror_mode": {
    "name": "ipython",
    "version": 3
   },
   "file_extension": ".py",
   "mimetype": "text/x-python",
   "name": "python",
   "nbconvert_exporter": "python",
   "pygments_lexer": "ipython3",
   "version": "3.7.0"
  }
 },
 "nbformat": 4,
 "nbformat_minor": 2
}
