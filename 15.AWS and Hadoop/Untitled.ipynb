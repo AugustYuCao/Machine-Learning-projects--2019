{
 "cells": [
  {
   "cell_type": "code",
   "execution_count": 1,
   "metadata": {},
   "outputs": [],
   "source": [
    "def predict(w, x):\n",
    "    return w * x.T\n",
    "\n",
    "def batchPegasos(dataSet, labels, lam, T, k):\n",
    "    \"\"\"batchPegasos()\n",
    " \n",
    "    Args:\n",
    "        dataMat    特征集合\n",
    "        labels     分类结果集合\n",
    "        lam        固定值\n",
    "        T          迭代次数\n",
    "        k          待处理列表大小\n",
    "    Returns:\n",
    "        w          回归系数\n",
    "    \"\"\"\n",
    "    m, n = shape(dataSet)\n",
    "    w = zeros(n)\n",
    "    dataIndex = [i for i in range(m)]\n",
    "    for r in range(1, T + 1):\n",
    "        wDelta = mat(zeros(n))    # 重置 wDelta\n",
    "        # 它是学习率，代表了权重调整幅度的大小。（也可以理解为随机梯度的步长，使它不断减小，便于拟合）\n",
    "        # 输入T和K分别设定了迭代次数和待处理列表的大小。在T次迭代过程中，每次需要重新计算eta\n",
    "        eta = 1.0 / (lam * t)\n",
    "        random.shuffle(dataIndex)\n",
    "        # 全部的训练集  内循环中执行批处理，将分类错误的值全部做累加后更新权重向量\n",
    "        for j in range(k):\n",
    "            i = dataIndex[j]\n",
    "            p = predict(w, dataSet[i,:])\n",
    "            # 如果预测正确，并且预测结果的绝对值>=1，因为最大间隔为1, 认为没问题。\n",
    "            # 否则算是预测错误, 通过预测错误的结果，来累计更新w.\n",
    "            if labels[i] * p < 1:\n",
    "                wDelta += labels[i] * dataSet[i,:].A    # 累积变化\n",
    "        # w通过不断的随机梯度的方式来优化\n",
    "        w = (1.0 - 1 / t) * w + (eta / k) * wDelta    # 在每个 T上应用更改\n",
    "    return w"
   ]
  }
 ],
 "metadata": {
  "kernelspec": {
   "display_name": "Python 3",
   "language": "python",
   "name": "python3"
  },
  "language_info": {
   "codemirror_mode": {
    "name": "ipython",
    "version": 3
   },
   "file_extension": ".py",
   "mimetype": "text/x-python",
   "name": "python",
   "nbconvert_exporter": "python",
   "pygments_lexer": "ipython3",
   "version": "3.7.0"
  }
 },
 "nbformat": 4,
 "nbformat_minor": 2
}
