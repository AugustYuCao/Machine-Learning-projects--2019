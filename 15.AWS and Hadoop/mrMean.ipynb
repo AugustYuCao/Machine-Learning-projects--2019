{
 "cells": [
  {
   "cell_type": "code",
   "execution_count": 2,
   "metadata": {},
   "outputs": [
    {
     "name": "stderr",
     "output_type": "stream",
     "text": [
      "usage: ipykernel_launcher.py [options] [input files]\n",
      "ipykernel_launcher.py: error: unrecognized arguments: -f\n"
     ]
    },
    {
     "ename": "SystemExit",
     "evalue": "2",
     "output_type": "error",
     "traceback": [
      "An exception has occurred, use %tb to see the full traceback.\n",
      "\u001b[0;31mSystemExit\u001b[0m\u001b[0;31m:\u001b[0m 2\n"
     ]
    },
    {
     "name": "stderr",
     "output_type": "stream",
     "text": [
      "/usr/local/lib/python3.7/site-packages/IPython/core/interactiveshell.py:2969: UserWarning: To exit: use 'exit', 'quit', or Ctrl-D.\n",
      "  warn(\"To exit: use 'exit', 'quit', or Ctrl-D.\", stacklevel=1)\n"
     ]
    }
   ],
   "source": [
    "from mrjob.job import MRJob\n",
    "\n",
    "class MRmean(MRJob):\n",
    "    def __init__(self, *args, **kwargs):    #*self._args：表示接受元组类参数；**kwargs：表示接受字典类参数；\n",
    "        super(MRmean, self).__init__(*args, **kwargs)    #调用父类（超类）\n",
    "        self.inCount = 0\n",
    "        self.inSum = 0\n",
    "        self.inSqSum = 0\n",
    "        \n",
    "    def map(self, key, val):\n",
    "        if False: yield\n",
    "        inVal = float(val)\n",
    "        self.inCount += 1\n",
    "        self.inSum += inVal\n",
    "        self.inSqSum += inVal * inVal\n",
    "        \n",
    "    def map_final(self):\n",
    "        mn = self.inSum / self.inCount\n",
    "        mnSq = self.inSqSum / self.inCount\n",
    "        yield(1, [self.inCount, mn, mnSq])\n",
    "        \n",
    "    def reduce(self, key, packedValues):\n",
    "        cumVal, cumSumSq, cumN = 0.0, 0.0, 0.0\n",
    "        for valArr in packedValues:\n",
    "            nj = float(valArr[0])\n",
    "            cumN += nj\n",
    "            cumVal += nj * float(valArr[1])\n",
    "            cumSumSq += nj * float(valArr[2])\n",
    "        mean = cumVal / cumN\n",
    "        var = (cumSumSq - 2 * mean * cumVal + cumN * mean * mean) / cumN\n",
    "        yield(mean, var)\n",
    "        \n",
    "    def steps(self):\n",
    "        return ([self.mr(mapper = self.map, reducer = self.reduce, mapper_final = self.map_final)])\n",
    "    \n",
    "if __name__ == '__main__':\n",
    "    MRmean.run()"
   ]
  },
  {
   "cell_type": "code",
   "execution_count": null,
   "metadata": {},
   "outputs": [],
   "source": []
  }
 ],
 "metadata": {
  "kernelspec": {
   "display_name": "Python 3",
   "language": "python",
   "name": "python3"
  },
  "language_info": {
   "codemirror_mode": {
    "name": "ipython",
    "version": 3
   },
   "file_extension": ".py",
   "mimetype": "text/x-python",
   "name": "python",
   "nbconvert_exporter": "python",
   "pygments_lexer": "ipython3",
   "version": "3.7.0"
  }
 },
 "nbformat": 4,
 "nbformat_minor": 2
}
